{
 "cells": [
  {
   "cell_type": "markdown",
   "id": "55ff20cc",
   "metadata": {},
   "source": [
    "# Assignment 3\n",
    "## Due date: 24/3/2022\n",
    "### Linh Nguyen"
   ]
  },
  {
   "cell_type": "markdown",
   "id": "03ebee0b",
   "metadata": {},
   "source": [
    "#### exercise 1"
   ]
  },
  {
   "cell_type": "code",
   "execution_count": 38,
   "id": "165346de",
   "metadata": {
    "scrolled": true
   },
   "outputs": [
    {
     "name": "stdout",
     "output_type": "stream",
     "text": [
      "30\n"
     ]
    }
   ],
   "source": [
    "x = lambda num1, num2: num1*num2\n",
    "print(x(5,6))"
   ]
  },
  {
   "cell_type": "markdown",
   "id": "d40d7208",
   "metadata": {},
   "source": [
    "#### exercise 2"
   ]
  },
  {
   "cell_type": "code",
   "execution_count": 39,
   "id": "e8957893",
   "metadata": {},
   "outputs": [
    {
     "name": "stdout",
     "output_type": "stream",
     "text": [
      "The area of the circle is: 314.1592653589793\n"
     ]
    }
   ],
   "source": [
    "import math\n",
    "pi = math.pi\n",
    "def area(radius):\n",
    "    return(radius**2*pi)\n",
    "print(\"The area of the circle is:\", area(10))    "
   ]
  },
  {
   "cell_type": "markdown",
   "id": "3d47fb4e",
   "metadata": {},
   "source": [
    "#### exercise 3"
   ]
  },
  {
   "cell_type": "code",
   "execution_count": 40,
   "id": "d51810ed",
   "metadata": {},
   "outputs": [
    {
     "name": "stdout",
     "output_type": "stream",
     "text": [
      "0.4\n"
     ]
    }
   ],
   "source": [
    "def operator(num1, num2, operation):\n",
    "    if operation == 'a':\n",
    "        return num1 + num2\n",
    "    elif operation == 's':\n",
    "        return num1 - num2\n",
    "    elif operation == 'm':\n",
    "        return num1 * num2\n",
    "    elif operation == 'd':\n",
    "        return num1 / num2\n",
    "print(operator(2,5,'d'))"
   ]
  },
  {
   "cell_type": "markdown",
   "id": "612236d2",
   "metadata": {},
   "source": [
    "#### exercise 4"
   ]
  },
  {
   "cell_type": "code",
   "execution_count": 41,
   "id": "ee3a592f",
   "metadata": {},
   "outputs": [
    {
     "name": "stdout",
     "output_type": "stream",
     "text": [
      "50\n"
     ]
    }
   ],
   "source": [
    "class Rectangle:\n",
    "    def __init__(self, length, width):\n",
    "        self.length = length\n",
    "        self.width = width\n",
    "    def area(self):\n",
    "        return self.length * self.width\n",
    "r = Rectangle(5,10)\n",
    "print(r.area())"
   ]
  },
  {
   "cell_type": "markdown",
   "id": "935826f0",
   "metadata": {},
   "source": [
    "#### exercise 5"
   ]
  },
  {
   "cell_type": "code",
   "execution_count": 42,
   "id": "a4d9602b",
   "metadata": {},
   "outputs": [
    {
     "name": "stdout",
     "output_type": "stream",
     "text": [
      "The area is: 25\n",
      "This is a: square\n"
     ]
    }
   ],
   "source": [
    "class Shape:\n",
    "    def __init__(self, name, length):\n",
    "        self.name = name\n",
    "        self.length = length\n",
    "    def area(self):\n",
    "        return 0\n",
    "    \n",
    "class Square(Shape):\n",
    "    def area(self):\n",
    "        print(\"The area is:\",self.length ** 2)\n",
    "    def describe(self):\n",
    "        print(\"This is a:\",self.name)\n",
    "        \n",
    "s = Square(\"square\",5)\n",
    "s.area()\n",
    "s.describe()"
   ]
  }
 ],
 "metadata": {
  "kernelspec": {
   "display_name": "Python 3 (ipykernel)",
   "language": "python",
   "name": "python3"
  },
  "language_info": {
   "codemirror_mode": {
    "name": "ipython",
    "version": 3
   },
   "file_extension": ".py",
   "mimetype": "text/x-python",
   "name": "python",
   "nbconvert_exporter": "python",
   "pygments_lexer": "ipython3",
   "version": "3.9.7"
  }
 },
 "nbformat": 4,
 "nbformat_minor": 5
}
